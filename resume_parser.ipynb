{
  "nbformat": 4,
  "nbformat_minor": 0,
  "metadata": {
    "colab": {
      "provenance": []
    },
    "kernelspec": {
      "name": "python3",
      "display_name": "Python 3"
    },
    "language_info": {
      "name": "python"
    }
  },
  "cells": [
    {
      "cell_type": "code",
      "execution_count": 2,
      "metadata": {
        "colab": {
          "base_uri": "https://localhost:8080/"
        },
        "id": "KrTro5PhbZvO",
        "outputId": "06af756f-c764-493f-c520-ef422298008b"
      },
      "outputs": [
        {
          "output_type": "stream",
          "name": "stdout",
          "text": [
            "Accuracy: 0.5\n",
            "\n",
            "Classification Report:\n",
            "               precision    recall  f1-score   support\n",
            "\n",
            "           0       0.00      0.00      0.00         0\n",
            "           1       1.00      0.50      0.67         2\n",
            "\n",
            "    accuracy                           0.50         2\n",
            "   macro avg       0.50      0.25      0.33         2\n",
            "weighted avg       1.00      0.50      0.67         2\n",
            "\n",
            "\n",
            "Confusion Matrix:\n",
            " [[0 0]\n",
            " [1 1]]\n"
          ]
        },
        {
          "output_type": "stream",
          "name": "stderr",
          "text": [
            "[nltk_data] Downloading package punkt to /root/nltk_data...\n",
            "[nltk_data]   Package punkt is already up-to-date!\n",
            "[nltk_data] Downloading package stopwords to /root/nltk_data...\n",
            "[nltk_data]   Package stopwords is already up-to-date!\n",
            "/usr/local/lib/python3.10/dist-packages/sklearn/metrics/_classification.py:1344: UndefinedMetricWarning: Recall and F-score are ill-defined and being set to 0.0 in labels with no true samples. Use `zero_division` parameter to control this behavior.\n",
            "  _warn_prf(average, modifier, msg_start, len(result))\n",
            "/usr/local/lib/python3.10/dist-packages/sklearn/metrics/_classification.py:1344: UndefinedMetricWarning: Recall and F-score are ill-defined and being set to 0.0 in labels with no true samples. Use `zero_division` parameter to control this behavior.\n",
            "  _warn_prf(average, modifier, msg_start, len(result))\n",
            "/usr/local/lib/python3.10/dist-packages/sklearn/metrics/_classification.py:1344: UndefinedMetricWarning: Recall and F-score are ill-defined and being set to 0.0 in labels with no true samples. Use `zero_division` parameter to control this behavior.\n",
            "  _warn_prf(average, modifier, msg_start, len(result))\n"
          ]
        }
      ],
      "source": [
        "import nltk\n",
        "import random\n",
        "from nltk.tokenize import word_tokenize\n",
        "from nltk.corpus import stopwords\n",
        "from sklearn.feature_extraction.text import TfidfVectorizer\n",
        "from sklearn.naive_bayes import MultinomialNB\n",
        "from sklearn.model_selection import train_test_split\n",
        "from sklearn.metrics import accuracy_score, classification_report, confusion_matrix\n",
        "\n",
        "# Download NLTK resources if not already downloaded\n",
        "nltk.download('punkt')\n",
        "nltk.download('stopwords')\n",
        "\n",
        "# Generate synthetic dataset\n",
        "def generate_synthetic_dataset():\n",
        "    suitable_resumes = [\n",
        "        \"Experienced data analyst with strong skills in Python and data analysis.\",\n",
        "        \"Machine learning enthusiast with experience in Python programming.\",\n",
        "        \"Data scientist with expertise in machine learning algorithms.\",\n",
        "        \"Python developer with experience in web scraping and data analysis.\"\n",
        "    ]\n",
        "\n",
        "    unsuitable_resumes = [\n",
        "        \"Web developer with proficiency in JavaScript and PHP.\",\n",
        "        \"Marketing specialist with experience in social media management.\",\n",
        "        \"Sales representative with excellent communication skills.\",\n",
        "        \"Graphic designer with a strong portfolio of creative designs.\"\n",
        "    ]\n",
        "\n",
        "    # Assign labels to the resumes: 1 for suitable and 0 for unsuitable\n",
        "    labeled_resumes = [(resume, 1) for resume in suitable_resumes] + [(resume, 0) for resume in unsuitable_resumes]\n",
        "    random.shuffle(labeled_resumes)\n",
        "    return labeled_resumes\n",
        "\n",
        "# Preprocess the text: tokenization, lowercase, remove stopwords\n",
        "def preprocess_text(text):\n",
        "    stop_words = set(stopwords.words('english'))\n",
        "    words = word_tokenize(text.lower())\n",
        "    return \" \".join([word for word in words if word.isalnum() and word not in stop_words])\n",
        "\n",
        "# Generate the dataset\n",
        "labeled_resumes = generate_synthetic_dataset()\n",
        "resumes, labels = zip(*labeled_resumes)\n",
        "\n",
        "# Preprocess the resumes\n",
        "preprocessed_resumes = [preprocess_text(resume) for resume in resumes]\n",
        "\n",
        "# Split the dataset into training and testing sets\n",
        "X_train, X_test, y_train, y_test = train_test_split(preprocessed_resumes, labels, test_size=0.2, random_state=42)\n",
        "\n",
        "# Vectorize the resumes using TF-IDF representation\n",
        "vectorizer = TfidfVectorizer()\n",
        "X_train_vectorized = vectorizer.fit_transform(X_train)\n",
        "X_test_vectorized = vectorizer.transform(X_test)\n",
        "\n",
        "# Train a Naive Bayes classifier\n",
        "classifier = MultinomialNB()\n",
        "classifier.fit(X_train_vectorized, y_train)\n",
        "\n",
        "# Make predictions on the test set\n",
        "y_pred = classifier.predict(X_test_vectorized)\n",
        "\n",
        "# Evaluate the model\n",
        "accuracy = accuracy_score(y_test, y_pred)\n",
        "print(\"Accuracy:\", accuracy)\n",
        "print(\"\\nClassification Report:\\n\", classification_report(y_test, y_pred))\n",
        "print(\"\\nConfusion Matrix:\\n\", confusion_matrix(y_test, y_pred))"
      ]
    }
  ]
}